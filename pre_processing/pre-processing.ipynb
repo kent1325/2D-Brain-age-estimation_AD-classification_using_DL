{
 "cells": [
  {
   "attachments": {},
   "cell_type": "markdown",
   "metadata": {},
   "source": [
    "# Preprocessing notebook\n",
    "\n",
    "Steps include:\n",
    "\n",
    "1. Downloading OASIS3 data in BIDS format\n",
    "2. Fix naming errors in data\n",
    "3. Preprocessing data with Clinica pipeline\n",
    "4. Tensor extraction of 2D slices\n",
    "5. Quality check of preprocessed data"
   ]
  },
  {
   "attachments": {},
   "cell_type": "markdown",
   "metadata": {},
   "source": [
    "### Reference __[notebook](https://colab.research.google.com/github/aramis-lab/Notebooks-AD-DL/blob/master/preprocessing.ipynb#scrollTo=DZ6LPnlGgeb2)__"
   ]
  },
  {
   "attachments": {},
   "cell_type": "markdown",
   "metadata": {},
   "source": [
    "### 1. Download data in bids format\n",
    "First, we need to download OASIS data from Xnat using a script. Guide and script found at __[guide](https://github.com/NrgXnat/oasis-scripts#detailed-instructions-on-how-to-run-these-scripts)__.\n",
    "\n",
    "We need to:\n",
    " 1. Extract 'MR ID' column from MR session table and save in csv file. Only keep the ID's you wish to download.\n",
    " 2. Save script 'download_oasis_scans_bid.sh' in same folder as ID csv file\n",
    " 3. Create target folder for BIDS data\n",
    " 4. Finally, run in terminal: `./download_oasis_scans_bids.sh <id_file.csv> <directory_name_to_store_data> <xnat_username> <scan_type>`. <br>"
   ]
  },
  {
   "cell_type": "code",
   "execution_count": 4,
   "metadata": {},
   "outputs": [],
   "source": [
    "# CD to dir with download script and run the following:\n",
    "#!./download_oasis_scans_bids.sh id_.csv ./bids_data Hecter T1w"
   ]
  },
  {
   "attachments": {},
   "cell_type": "markdown",
   "metadata": {},
   "source": [
    "### 2. Fix naming errors in directory\n",
    "As the pre-processing pipeline depends on naming conventions, naming bugs in the data directory are corrected. Two errors are corrected:\n",
    "- 'sess' needs to be replaced with 'ses'.\n",
    "- Some sessions includes two runs resulting in two images for the same subject in the same session. In such case, one run is deleted as only one is expected."
   ]
  },
  {
   "cell_type": "code",
   "execution_count": null,
   "metadata": {},
   "outputs": [],
   "source": [
    "import os\n",
    "\n",
    "data_folder = \"/home/hecter/OneDrive/6_semester/Project/Data/script_download/rename_script/data\"   # Insert path to dir\n",
    "\n",
    "for root, dirs, files in os.walk(data_folder):\n",
    "    for file_name in files:\n",
    "        # Check for 'sess' and replace with 'ses'\n",
    "        if 'sess' in file_name:\n",
    "            new_file_name = file_name.replace('sess', 'ses')\n",
    "            os.rename(os.path.join(root, file_name), os.path.join(root, new_file_name))\n",
    "\n",
    "        # Check for duplicate run-01 and run-02 files and delete run-01\n",
    "        if 'run-01' in file_name:\n",
    "            run_01_path = os.path.join(root, file_name)\n",
    "            os.remove(run_01_path)"
   ]
  },
  {
   "attachments": {},
   "cell_type": "markdown",
   "metadata": {},
   "source": [
    "### 3. Preprocessing with Clinica pipeline\n",
    "\n",
    "Clinica has dependency 'ANTs'. Guide to install found __[here](https://github.com/ANTsX/ANTs/wiki/Compiling-ANTs-on-Linux-and-Mac-OS)__. Run the command: \n",
    "`clinica run t1-linear <bids_data_dir> <target_dir> <no_of_cores>` (__[Clinica](https://aramislab.paris.inria.fr/clinica/docs/public/latest/Pipelines/T1_Linear/)__)."
   ]
  },
  {
   "cell_type": "code",
   "execution_count": 3,
   "metadata": {},
   "outputs": [],
   "source": [
    "# Define global and local path variables at each boot\n",
    "\n",
    "#!export ANTSPATH=/opt/ANTs/bin/\n",
    "#!export PATH=${ANTSPATH}:$PATH\n",
    "\n",
    "#!clinica run t1-linear ./bids_data ./output_data --n_procs 7"
   ]
  },
  {
   "attachments": {},
   "cell_type": "markdown",
   "metadata": {},
   "source": [
    "### 4. Tensor extraction of 2D slices\n",
    "\n",
    "As a final step, the pre-processed images are obtained in tensor format suitable for input in PyTorch deep learning models. Additionally, each brain is converted into 2D slices. To do so, run the following command: <br> `clinicadl prepare-data [image|patch|slice|roi] [OPTIONS] <post_t1-processing_data> t1-linear` (__[clinicadl](https://clinicadl.readthedocs.io/en/latest/Preprocessing/Extract/)__). <br> <br>\n",
    "Relevant `[OPTIONS]`: `--save_features`, `--slice_direction`, `--discard_slices`, `--slice_mode`."
   ]
  },
  {
   "cell_type": "code",
   "execution_count": 5,
   "metadata": {},
   "outputs": [],
   "source": [
    "# Extract tensors with parameters set to axial plane and to store 5 slices of each brain mri volume\n",
    "#!clinicadl prepare-data slice --save_features --slice_direction 2 --discarded_slices 87 ./data t1-linear"
   ]
  },
  {
   "attachments": {},
   "cell_type": "markdown",
   "metadata": {},
   "source": [
    "### 5. Quality check of preprocessed data\n",
    "\n",
    "As a final measure, all processed images are quality checked. The quality check returns a tsv file with pass probability and whether a given image passed the threshold or not. We want to avoid using images with low probabilies. Use the following command: <br>\n",
    "`clinicadl quality-check t1-linear [OPTIONS] <post_t1-processing_data> <output.tsv>` __[clinicadl](https://clinicadl.readthedocs.io/en/latest/Preprocessing/QualityCheck/)__ <br> <br>\n",
    "Relevant `[OPTIONS]`: `--use_tensor`, `--gpu/--no_gpu`"
   ]
  },
  {
   "cell_type": "code",
   "execution_count": 6,
   "metadata": {},
   "outputs": [],
   "source": [
    "#!clinicadl quality-check t1-linear --no-gpu ./t1_data QC_result.tsv"
   ]
  }
 ],
 "metadata": {
  "kernelspec": {
   "display_name": "5_semester",
   "language": "python",
   "name": "python3"
  },
  "language_info": {
   "codemirror_mode": {
    "name": "ipython",
    "version": 3
   },
   "file_extension": ".py",
   "mimetype": "text/x-python",
   "name": "python",
   "nbconvert_exporter": "python",
   "pygments_lexer": "ipython3",
   "version": "3.10.8"
  },
  "orig_nbformat": 4
 },
 "nbformat": 4,
 "nbformat_minor": 2
}
