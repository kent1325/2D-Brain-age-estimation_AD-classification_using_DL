{
 "cells": [
  {
   "attachments": {},
   "cell_type": "markdown",
   "metadata": {},
   "source": [
    "# Test statistics for our regression model"
   ]
  },
  {
   "cell_type": "code",
   "execution_count": null,
   "metadata": {},
   "outputs": [],
   "source": [
    "import pandas as pd\n",
    "import os\n",
    "from sklearn.metrics import mean_absolute_error\n",
    "from math import sqrt"
   ]
  },
  {
   "cell_type": "code",
   "execution_count": null,
   "metadata": {},
   "outputs": [],
   "source": [
    "IS_SICK = False\n",
    "DF_HEALTHY_FILENAME = \"df_healthy_unfiltered_tester_model_epoch_100_4a8e58cc-edf8-4c47-9090-0534fc13ccda.pkl\"\n",
    "DF_SICK_FILENAME = \"df_sick_subjects_tester_model_epoch_100_17f05318-09c2-49bc-82ae-0e22d281451d.pkl\"\n",
    "DATE = \"05-05-2023\"\n",
    "PROJECT_PATH = os.path.normpath(os.path.join(os.path.abspath(''), os.pardir))"
   ]
  },
  {
   "cell_type": "code",
   "execution_count": null,
   "metadata": {},
   "outputs": [],
   "source": [
    "# Read the datasets\n",
    "if IS_SICK:\n",
    "    df_path = os.path.join(PROJECT_PATH, \"models\", DATE, \"loss\", DF_SICK_FILENAME)\n",
    "else:\n",
    "    df_path = os.path.join(PROJECT_PATH, \"models\", DATE, \"loss\", DF_HEALTHY_FILENAME)\n",
    "df = pd.read_pickle(df_path)\n",
    "df"
   ]
  },
  {
   "attachments": {},
   "cell_type": "markdown",
   "metadata": {},
   "source": [
    "### Compute over and underestimation percentage"
   ]
  },
  {
   "cell_type": "code",
   "execution_count": null,
   "metadata": {},
   "outputs": [],
   "source": [
    "df_estimates = df.copy()\n",
    "df_estimates[\"Estimation\"] = df_estimates.apply(lambda row: \"over\" if row[\"Predicted Age\"] > row[\"Age\"] else \"under\", axis=1)\n",
    "df_estimates.head()\n"
   ]
  },
  {
   "cell_type": "code",
   "execution_count": null,
   "metadata": {},
   "outputs": [],
   "source": [
    "estimation_counts = df_estimates.groupby(\"Estimation\").size()\n",
    "estimation_percentages = estimation_counts.apply(lambda x: 100 * x / float(estimation_counts.sum()))\n",
    "print(f\"{estimation_percentages[0]:.5}% Over estimation\\n{estimation_percentages[1]:.5}% Under estimation\")"
   ]
  },
  {
   "attachments": {},
   "cell_type": "markdown",
   "metadata": {},
   "source": [
    "### Computing the correlation coefficient between Chronological Age and Predicted Age"
   ]
  },
  {
   "cell_type": "code",
   "execution_count": null,
   "metadata": {},
   "outputs": [],
   "source": [
    "df_pcc = df.copy()\n",
    "corr_coefficient = df_pcc['Age'].corr(df_pcc['Predicted Age'], method='pearson')\n",
    "print(f\"Pearsons Correlation Coefficient for Age and Predicted Age: {corr_coefficient}\")"
   ]
  },
  {
   "attachments": {},
   "cell_type": "markdown",
   "metadata": {},
   "source": [
    "### Computing Mean Absolute Error (MAE), Standard Deviation (SD) and Standard Error of the Mean (SEM)"
   ]
  },
  {
   "cell_type": "code",
   "execution_count": null,
   "metadata": {},
   "outputs": [],
   "source": [
    "df_mae = df.copy()\n",
    "mae = mean_absolute_error(df_mae['Age'], df_mae['Predicted Age'])\n",
    "mae\n",
    "print(f\"MAE of Predicted Age: {mae}\")"
   ]
  },
  {
   "cell_type": "code",
   "execution_count": null,
   "metadata": {},
   "outputs": [],
   "source": [
    "df_sd = df.copy()\n",
    "std_predicted_age = df_sd['Predicted Age'].std()\n",
    "print(f\"STD of Prediced Age: {std_predicted_age}\")"
   ]
  },
  {
   "cell_type": "code",
   "execution_count": null,
   "metadata": {},
   "outputs": [],
   "source": [
    "df_sem = df.copy()\n",
    "sem = df_sem['Predicted Age'].std() / sqrt(len(df_sem['Predicted Age']))\n",
    "print(f\"SEM of Prediced Age: {sem}\")"
   ]
  },
  {
   "attachments": {},
   "cell_type": "markdown",
   "metadata": {},
   "source": [
    "### Computing the average Estimated Age Difference (EAD)"
   ]
  },
  {
   "cell_type": "code",
   "execution_count": null,
   "metadata": {},
   "outputs": [],
   "source": [
    "df_ead = df.copy()\n",
    "df_ead['Difference'] = df_ead['Age'] - df_ead['Predicted Age']\n",
    "avg_difference = df_ead['Difference'].mean()\n",
    "print(f\"Average Age difference in Chronological and Predicted: {avg_difference}\")"
   ]
  },
  {
   "attachments": {},
   "cell_type": "markdown",
   "metadata": {},
   "source": [
    "### Computing the Age distribution"
   ]
  },
  {
   "cell_type": "code",
   "execution_count": null,
   "metadata": {},
   "outputs": [],
   "source": [
    "df_age = df.copy()\n",
    "print(f\"AVG Age: {df_age['Age'].mean()}\\nSTD Age: {df_age['Age'].std()}\")"
   ]
  }
 ],
 "metadata": {
  "kernelspec": {
   "display_name": "p6",
   "language": "python",
   "name": "python3"
  },
  "language_info": {
   "codemirror_mode": {
    "name": "ipython",
    "version": 3
   },
   "file_extension": ".py",
   "mimetype": "text/x-python",
   "name": "python",
   "nbconvert_exporter": "python",
   "pygments_lexer": "ipython3",
   "version": "3.11.0"
  },
  "orig_nbformat": 4
 },
 "nbformat": 4,
 "nbformat_minor": 2
}
